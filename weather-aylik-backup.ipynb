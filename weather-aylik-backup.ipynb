{
 "cells": [
  {
   "cell_type": "markdown",
   "id": "5d0f1521-c878-4c64-a4c9-3856a129119a",
   "metadata": {},
   "source": [
    "# Aylık Türkiye Hava Değerli Okuma ve Sabit Web Sayfasına Çevirme\n",
    "\n",
    "## Barış Sanlı, barissanli2@gmail.com\n",
    "\n",
    "Aşağıdaki kod, bir sürü paralı BI araçlarına para yatıranlar yerine, açık kodlu, internetten doğrudan CSV ile indiren ve etkileşimli grafiklere çeviren yazılımdır\n",
    "\n",
    "Veri kaynağı: Uluslararası Enerji Ajansı'nın Weather for Energy Data veritabanıdır. Adres değişirse kok değişkenden değiştirebilirsiniz\n",
    "\n",
    "Kodun aktif halini barissanli.com/enerji 'de Aylık İklim Göstergelerinde bulabilirsiniz"
   ]
  },
  {
   "cell_type": "code",
   "execution_count": 1,
   "id": "ac89349e-18ac-4899-9fe9-f8553296b9ce",
   "metadata": {},
   "outputs": [],
   "source": [
    "# web adres\n",
    "# http://weatherforenergydata.iea.org/National%20data/Monthly%20values/CSV/"
   ]
  },
  {
   "cell_type": "code",
   "execution_count": null,
   "id": "2c64b383-99d2-491b-9e37-cb99d2af290d",
   "metadata": {},
   "outputs": [],
   "source": [
    "import os\n",
    "import requests\n",
    "import pandas as pd \n",
    "import matplotlib.pyplot as plt\n",
    "import plotly.graph_objects as go\n",
    "import pandas as pd"
   ]
  },
  {
   "cell_type": "code",
   "execution_count": null,
   "id": "4905caca-a525-4923-9225-c2381ddb169c",
   "metadata": {},
   "outputs": [],
   "source": [
    "import plotly.graph_objs as go\n",
    "import plotly.io as pio"
   ]
  },
  {
   "cell_type": "code",
   "execution_count": null,
   "id": "030e4f2f-2b32-47b9-bdfc-8343373b9d4e",
   "metadata": {},
   "outputs": [],
   "source": [
    "kok=\"http://weatherforenergydata.iea.org/National%20data/Monthly%20values/CSV/\"\n",
    "cdd21='IEA_CMCC_CDD21monthlyworldbypopallmonths.csv'\n",
    "hdd18='IEA_CMCC_HDD18monthlyworldbypopallmonths.csv'\n",
    "cloud='IEA_CMCC_Cloudmonthlyworldbysurfallmonths.csv'\n",
    "daylight='IEA_CMCC_Daylightmonthlyworldbypopallmonths.csv'\n",
    "evaporation='IEA_CMCC_Evaporationmonthlyworldbysurfallmonths.csv'\n",
    "precipitation='IEA_CMCC_Precipitationmonthlyworldbysurfallmonths.csv'\n",
    "snowfall='IEA_CMCC_Snowfallmonthlyworldbysurfallmonths.csv'\n",
    "wind100m='IEA_CMCC_Wind100intmonthlyworldbysurfallmonths.csv'\n",
    "sicaklik='IEA_CMCC_Temperaturemonthlyworldbypopallmonths.csv'\n",
    "wetbulb=\"IEA_CMCC_Temperaturewbmonthlyworldbypopallmonths.csv\""
   ]
  },
  {
   "cell_type": "code",
   "execution_count": null,
   "id": "7178642d-792d-47c2-8fb3-3ef5022bcae2",
   "metadata": {},
   "outputs": [],
   "source": [
    "filez=[\"cdd21\",\"hdd18\",\"cloud\",\"daylight\",\"evaporation\",\"precipitation\",\"snowfall\",\"wind100m\",\"sicaklik\",\"wetbulb\"]"
   ]
  },
  {
   "cell_type": "code",
   "execution_count": null,
   "id": "479ad22c-b717-43ab-b82d-29fa9864cc8b",
   "metadata": {},
   "outputs": [],
   "source": [
    "# Sürekli Web'den indirip durma, eğer dosyalar yoksa ve yenile=True ise yenile\n",
    "yenile=False"
   ]
  },
  {
   "cell_type": "code",
   "execution_count": null,
   "id": "d6115a71-973d-4da8-a832-f6b55292ee8d",
   "metadata": {},
   "outputs": [],
   "source": [
    "def geturlandgraph(csvfile,baslik=\"\",yl=\"\",filen=\"\"):\n",
    " file_path=eval(i)\n",
    " if not os.path.exists(file_path) or yenile:\n",
    "    # Download the file\n",
    "    response = requests.get(kok+file_path)\n",
    "    with open(file_path, 'wb') as file:\n",
    "        file.write(response.content)\n",
    "    print(f\"Downloaded {file_path}\")\n",
    "    df = pd.read_csv(file_path, na_values=[''],skiprows=9, encoding='unicode_escape')  \n",
    " else:\n",
    "    df = pd.read_csv(file_path, na_values=[''],skiprows=9, encoding='unicode_escape')  \n",
    " \n",
    " df = pd.read_csv(kok+csvfile, na_values=[''],skiprows=9, encoding='unicode_escape')  \n",
    " datavar=df.columns[-1]\n",
    " df=df[df.ISO3==\"TUR\"]\n",
    " df[\"yil\"]=df.Date.str[:4].astype(int)\n",
    " df[\"ay\"]=df.Date.str[5:7].astype(int) ;\n",
    " df[\"gun\"]=df.Date.str[8:10].astype(int) ;\n",
    " dfx=df.pivot_table(index=\"ay\", columns=\"yil\", values=datavar)\n",
    " graphdf(dfx,title=baslik,yl=yl,filen=filen)"
   ]
  },
  {
   "cell_type": "code",
   "execution_count": null,
   "id": "a845adab-4e13-4244-9a0b-6b66cb125344",
   "metadata": {},
   "outputs": [],
   "source": [
    "def graphdf(dfx,title=\"\",yl=\"\",filen=\"\"):\n",
    "    years=dfx.columns\n",
    "    lastyear=years[-1]\n",
    "    otheryears=years[:-1]\n",
    "    df_oy=dfx[otheryears]\n",
    "    df_oy[\"minx\"]=df_oy.min(axis=1)\n",
    "    df_oy[\"maxx\"]=df_oy.max(axis=1)\n",
    "    \n",
    "#    print(df_oy.head(6))\n",
    "    months = list(range(1, 13))\n",
    "\n",
    "    # Create figure\n",
    "    fig = go.Figure()\n",
    "\n",
    "    #fig.update_traces(hovertemplate='<b>%{y}</b><br>%{fullData.name}')\n",
    "\n",
    "    # Add lines for each year\n",
    "    for year in otheryears:\n",
    "     fig.add_trace(go.Scatter(\n",
    "        x=months, y=df_oy[year],\n",
    "        mode='lines', name=year,\n",
    "        line=dict(color='lightgray'),\n",
    "        #hoverinfo='y, fullData.name'\n",
    "        hovertemplate='y: %{y}<br>Year: %{fullData.name}<extra></extra>'\n",
    "\n",
    "     ))\n",
    "     #fig.update_traces(hovertemplate='<b>%{y}</b><br>%{fullData.name}')\n",
    "\n",
    "#fig = px.line(df_melted, x='Index', y='Temperature', color='Year', title='Annual Temperature Data')\n",
    "\n",
    "    min_values=df_oy.minx\n",
    "    max_values=df_oy.maxx\n",
    "  \n",
    "    fig.add_trace(go.Scatter(\n",
    "     x=months, y=min_values,\n",
    "     mode='lines', line=dict(width=0), name=\"En Düşük\",\n",
    "     showlegend=False\n",
    "    ))\n",
    "\n",
    "    fig.add_trace(go.Scatter(\n",
    "     x=months, y=max_values,\n",
    "     mode='lines', line=dict(width=0), name=\"En Yüksek\",\n",
    "     fill='tonexty', fillcolor='rgba(200, 200, 200, 0.5)',\n",
    "     showlegend=False\n",
    "    ))\n",
    "\n",
    "    fig.add_trace(go.Scatter(\n",
    "     x=months, y=dfx[lastyear],\n",
    "     mode='lines',  line=dict(width=2, color=\"#990000\"),\n",
    "     showlegend=False, name=\"2024\"\n",
    "    ))\n",
    "\n",
    "    for year in otheryears:\n",
    "     fig.add_trace(go.Scatter(\n",
    "        x=months, y=df_oy[year],\n",
    "        mode='lines', name=year,\n",
    "        line=dict(width=2,color='#990000'),\n",
    "        #hoverinfo='x',\n",
    "        visible='legendonly'\n",
    "    ))\n",
    "\n",
    "    fig.update_layout(\n",
    "     title={'text':title,'xanchor': 'center','x': 0.5},\n",
    "\n",
    "     xaxis_title='Aylar',\n",
    "     yaxis_title=yl,\n",
    "    #hovermode='x'\n",
    "    )\n",
    "    fig.show()\n",
    "\n",
    "    if filen!=\"\":   #eğer dosya ismi varsa,  dosyaya yaz\n",
    "     fig.write_html(filen)\n",
    "    if filen==\"\":   #eğer dosya ismi yoksa, daha önce açtığımız dosyaya yaz\n",
    "     f.write(pio.to_html(fig, full_html=False))\n"
   ]
  },
  {
   "cell_type": "code",
   "execution_count": null,
   "id": "712f7773-4910-4572-bd8a-b90f77b4d5fa",
   "metadata": {},
   "outputs": [],
   "source": [
    "filez"
   ]
  },
  {
   "cell_type": "code",
   "execution_count": null,
   "id": "023a3be1-1f45-4b8d-b8c5-82e180801c5a",
   "metadata": {},
   "outputs": [],
   "source": [
    "txt=dict({'cdd21': 'Soğutma Derece-Gün Sayısı (21 C için)',\n",
    "          'hdd18': 'Isıtma Derece-Gün Sayısı (18 C için)',\n",
    "          'cloud': 'Bulutlanma Oranı',\n",
    "          'daylight': 'Günışığı Süresi',\n",
    "          'evaporation': 'Buharlaşma',\n",
    "          'precipitation': 'Yağış',\n",
    "          'snowfall':'Karyağış Miktarı',\n",
    "          'wind100m':'100 metrede Rüzgar',\n",
    "          'sicaklik': 'Sıcaklık',\n",
    "          'wetbulb':'Islak Sıcaklık (Wetbulb)'\n",
    "          }\n",
    "        )"
   ]
  },
  {
   "cell_type": "code",
   "execution_count": null,
   "id": "ef5cb142-4790-4355-9d27-9f03f96433c4",
   "metadata": {},
   "outputs": [],
   "source": [
    "# tüm grafikleri Turkiye-iklim-gostergeleri.html'e yaz, aynı dizinde\n",
    "\n",
    "with open('Turkiye-iklim-gostergeleri.html', 'w',encoding='utf-8') as f:\n",
    " f.write('<!DOCTYPE html><html lang=\\\"tr\\\"><head><meta charset=\\\"UTF-8\\\"><meta name=\\\"viewport\\\" content=\\\"width=device-width, initial-scale=1.0\\\"><meta http-equiv=\\\"Content-Type\\\" content=\\\"text/html; charset=ISO-8859-9\\\"><meta http-equiv=\\\"Content-Language\\\" content=\\\"tr\\\">')\n",
    " f.write('</head>')\n",
    " for i in filez:\n",
    "    #print(eval(i))\n",
    "    #geturlandgraph(eval(i),txt[i],txt[i],i+\".html\")\n",
    "    geturlandgraph(eval(i),txt[i],txt[i],\"\")\n",
    "\n",
    " f.write('</body></html>')"
   ]
  },
  {
   "cell_type": "code",
   "execution_count": null,
   "id": "88ff1c18-7e08-4748-a043-ec4fc694093b",
   "metadata": {},
   "outputs": [],
   "source": [
    "#son kontrol\n",
    "for i in filez:\n",
    " print(i+\"         \"+txt[i])"
   ]
  }
 ],
 "metadata": {
  "kernelspec": {
   "display_name": "Python 3 (ipykernel)",
   "language": "python",
   "name": "python3"
  },
  "language_info": {
   "codemirror_mode": {
    "name": "ipython",
    "version": 3
   },
   "file_extension": ".py",
   "mimetype": "text/x-python",
   "name": "python",
   "nbconvert_exporter": "python",
   "pygments_lexer": "ipython3",
   "version": "3.9.13"
  }
 },
 "nbformat": 4,
 "nbformat_minor": 5
}
